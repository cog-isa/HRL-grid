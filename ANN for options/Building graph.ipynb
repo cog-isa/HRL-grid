{
 "cells": [
  {
   "cell_type": "code",
   "execution_count": 1,
   "metadata": {},
   "outputs": [],
   "source": [
    "import os\n",
    "import sys\n",
    "\n",
    "import argparse\n",
    "import gym\n",
    "from gym import wrappers\n",
    "import os.path as osp\n",
    "import random\n",
    "import numpy as np\n",
    "import itertools\n",
    "import tensorflow as tf\n",
    "import tensorflow.contrib.layers as layers\n",
    "\n",
    "nb_dir = os.path.split(os.getcwd())[0]\n",
    "if nb_dir not in sys.path:\n",
    "    sys.path.append(nb_dir)\n",
    "\n",
    "from arm_env_dqn import ArmEnvDQN"
   ]
  },
  {
   "cell_type": "code",
   "execution_count": 2,
   "metadata": {},
   "outputs": [],
   "source": [
    "def get_session():\n",
    "    tf.reset_default_graph()\n",
    "    session = tf.Session(config=tf.ConfigProto(log_device_placement=True))\n",
    "    session = tf.Session()\n",
    "    return session"
   ]
  },
  {
   "cell_type": "code",
   "execution_count": 3,
   "metadata": {},
   "outputs": [],
   "source": [
    "env = ArmEnvDQN(episode_max_length=200,\n",
    "                 size_x=6,\n",
    "                 size_y=4,\n",
    "                 cubes_cnt=4,\n",
    "                 scaling_coeff=3,\n",
    "                 action_minus_reward=-1,\n",
    "                 finish_reward=200,\n",
    "                 tower_target_size=4)"
   ]
  },
  {
   "cell_type": "code",
   "execution_count": 4,
   "metadata": {},
   "outputs": [],
   "source": [
    "def conv_model(input_data, scope, flatten = True, reuse=False):\n",
    "    with tf.variable_scope(scope, reuse=reuse):\n",
    "        out = input_data\n",
    "        out = layers.convolution2d(out, num_outputs=32, kernel_size=8, stride=4, activation_fn=tf.nn.relu)\n",
    "        out = layers.convolution2d(out, num_outputs=64, kernel_size=4, stride=2, activation_fn=tf.nn.relu)\n",
    "        out = layers.convolution2d(out, num_outputs=64, kernel_size=3, stride=1, activation_fn=tf.nn.relu)\n",
    "        if flatten:\n",
    "            out = layers.flatten(out)\n",
    "        return out\n",
    "    \n",
    "def mlp_model(input_data, output_len, scope, reuse=False):\n",
    "    with tf.variable_scope(scope, reuse=reuse):\n",
    "        out = input_data\n",
    "        out = layers.fully_connected(out, num_outputs=256,         activation_fn=tf.nn.relu)\n",
    "        out = layers.fully_connected(out, num_outputs=output_len, activation_fn=None)\n",
    "        return out"
   ]
  },
  {
   "cell_type": "code",
   "execution_count": 5,
   "metadata": {},
   "outputs": [],
   "source": [
    "with tf.Session() as session:\n",
    "    frame_history_len= 1\n",
    "    num_options = 2\n",
    "\n",
    "    if len(env.observation_space.shape) == 1:\n",
    "        # This means we are running on low-dimensional observations (e.g. RAM)\n",
    "        input_shape = env.observation_space.shape\n",
    "    else:\n",
    "        img_h, img_w, img_c = env.observation_space.shape\n",
    "        input_shape = (img_h, img_w, frame_history_len * img_c)  # size_x, size_y,\n",
    "        \n",
    "    num_actions = env.action_space.n\n",
    "    \n",
    "    #INPUT DATA: previous action and image\n",
    "    prev_action = tf.placeholder(tf.float32, [None, num_options+1], name = \"prev_action\")\n",
    "\n",
    "    with tf.variable_scope('input_image'):\n",
    "    # placeholder for current observation (or state)\n",
    "        obs_t_ph = tf.placeholder(tf.uint8, [None] + list(input_shape), name = \"obs_t_ph\")\n",
    "    # casting to float on GPU ensures lower data transfer times.\n",
    "        obs_t_float = tf.realdiv(tf.cast(obs_t_ph, tf.float32), 255.0, name = 'obs_t_float')\n",
    "    \n",
    "    #CONVOLUTION\n",
    "    convolution = conv_model(obs_t_float, scope=\"convolution\", reuse=False)\n",
    "    \n",
    "    \n",
    "    #MANAGER\n",
    "    with tf.variable_scope(\"manager\"):\n",
    "        manager = mlp_model(convolution, num_options+1, scope = \"manager\", reuse=False)\n",
    "        manager_pred_ac = tf.argmax(manager, axis=1, name = \"manager_pred_ac\")\n",
    "        manager_one_hot = tf.one_hot(manager_pred_ac, depth=num_options+1, name = \"manager_one_hot\")\n",
    "    \n",
    "    #NETs to check if the option is terminated\n",
    "    options_checkers = [mlp_model(convolution, 1, scope = 'opt{0}_checker'.format(i+1), reuse=False) \n",
    "                     for i in range(num_options)]\n",
    "    \n",
    "    with tf.variable_scope(\"check_option\"):\n",
    "        options_check = tf.concat(options_checkers, 1, name = \"options_check\")\n",
    "        cond = tf.cast(tf.reduce_sum(tf.multiply(options_check, prev_action[:, 1:]) , axis=1), tf.bool, name = 'cond')\n",
    "    \n",
    "    # SELECT on whether the option terminated\n",
    "    with tf.variable_scope(\"subselect\"):\n",
    "        one_hot0 = tf.where(cond, manager_one_hot,  prev_action, name = \"select1\")\n",
    "    \n",
    "    # SELECT on if ot was option or not\n",
    "    with tf.variable_scope(\"select_task\"):\n",
    "        one_hot = tf.where(tf.cast(prev_action[:,0], tf.bool), manager_one_hot, one_hot0, name = \"select2\")\n",
    "    \n",
    "    tasks = [mlp_model(convolution, num_actions, scope = 'task{0}'.format(i), reuse=False) \n",
    "                     for i in range(num_options+1)]\n",
    "    \n",
    "    with tf.variable_scope(\"action\"):\n",
    "        action = tf.boolean_mask(tasks, tf.cast(one_hot, tf.bool), name = \"get_task\")\n",
    "    \n",
    "    \n",
    "    summary_writer = tf.summary.FileWriter(\"graph_logs\", graph=tf.get_default_graph())"
   ]
  },
  {
   "cell_type": "code",
   "execution_count": null,
   "metadata": {},
   "outputs": [
    {
     "name": "stdout",
     "output_type": "stream",
     "text": [
      "Starting TensorBoard b'47' at http://0.0.0.0:6006\n",
      "(Press CTRL+C to quit)\n",
      "WARNING:tensorflow:path ../external/data/plugin/text/runs not found, sending 404\n",
      "WARNING:tensorflow:path ../external/data/plugin/text/runs not found, sending 404\n",
      "WARNING:tensorflow:path ../external/data/plugin/text/runs not found, sending 404\n",
      "WARNING:tensorflow:path ../external/data/plugin/text/runs not found, sending 404\n"
     ]
    }
   ],
   "source": [
    "! tensorboard --logdir=graph_logs"
   ]
  },
  {
   "cell_type": "code",
   "execution_count": null,
   "metadata": {},
   "outputs": [],
   "source": []
  }
 ],
 "metadata": {
  "kernelspec": {
   "display_name": "Python 3",
   "language": "python",
   "name": "python3"
  },
  "language_info": {
   "codemirror_mode": {
    "name": "ipython",
    "version": 3
   },
   "file_extension": ".py",
   "mimetype": "text/x-python",
   "name": "python",
   "nbconvert_exporter": "python",
   "pygments_lexer": "ipython3",
   "version": "3.6.4"
  }
 },
 "nbformat": 4,
 "nbformat_minor": 2
}
